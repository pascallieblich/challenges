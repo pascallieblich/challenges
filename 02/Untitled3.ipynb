{
 "cells": [
  {
   "cell_type": "code",
   "execution_count": 16,
   "metadata": {},
   "outputs": [
    {
     "name": "stdout",
     "output_type": "stream",
     "text": [
      "cow\n",
      "horse\n",
      "pig\n",
      "cat\n",
      "dog\n"
     ]
    }
   ],
   "source": [
    "animals = ['dog', 'cat', 'pig', 'horse', 'cow']\n",
    "while True:\n",
    "    a = animals.pop()\n",
    "    if a!=\"dog\":\n",
    "        print(a)\n",
    "        continue\n",
    "    elif True:\n",
    "        print(a)\n",
    "        break\n",
    "    print(a)"
   ]
  },
  {
   "cell_type": "code",
   "execution_count": null,
   "metadata": {},
   "outputs": [],
   "source": [
    "\n"
   ]
  }
 ],
 "metadata": {
  "kernelspec": {
   "display_name": "Python 3",
   "language": "python",
   "name": "python3"
  },
  "language_info": {
   "codemirror_mode": {
    "name": "ipython",
    "version": 3
   },
   "file_extension": ".py",
   "mimetype": "text/x-python",
   "name": "python",
   "nbconvert_exporter": "python",
   "pygments_lexer": "ipython3",
   "version": "3.6.2"
  }
 },
 "nbformat": 4,
 "nbformat_minor": 2
}
