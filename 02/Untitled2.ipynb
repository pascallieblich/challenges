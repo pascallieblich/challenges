{
 "cells": [
  {
   "cell_type": "code",
   "execution_count": null,
   "metadata": {
    "scrolled": true
   },
   "outputs": [
    {
     "name": "stdout",
     "output_type": "stream",
     "text": [
      "num1:6\n",
      "num2:0\n",
      "error at input word function division by zero\n"
     ]
    }
   ],
   "source": [
    "#!python3\n",
    "# Code Challenge 02 - Word Values Part II - a simple game\n",
    "# http://pybit.es/codechallenge02.html\n",
    "\n",
    "\n",
    "def input_word():\n",
    "    while True:\n",
    "        num1=input(\"num1:\")\n",
    "        \n",
    "        num2=input(\"num2:\")\n",
    "        num1=int(num1)\n",
    "        num2=int(num2)\n",
    "        try:\n",
    "            print(\"validation \",_validation(num1,num2))\n",
    "            return _validation(num1,num2)\n",
    "        except ZeroDivisionError as e:\n",
    "            print(\"error at input word function\",e)\n",
    "            continue\n",
    "\n",
    "\n",
    "def _validation(num1,num2):\n",
    "    while True:\n",
    "        result=num1/num2\n",
    "    else:\n",
    "      raise ValueError(\"Error at validation function level\")\n",
    "    print(result)\n",
    "    return result\n",
    "\n",
    "\n",
    "def main():\n",
    "    input_word()\n",
    "        \n",
    "    \n",
    "\n",
    "if __name__ == \"__main__\":\n",
    "    main()\n"
   ]
  },
  {
   "cell_type": "code",
   "execution_count": null,
   "metadata": {},
   "outputs": [],
   "source": []
  },
  {
   "cell_type": "code",
   "execution_count": null,
   "metadata": {},
   "outputs": [],
   "source": []
  }
 ],
 "metadata": {
  "kernelspec": {
   "display_name": "Python 3",
   "language": "python",
   "name": "python3"
  },
  "language_info": {
   "codemirror_mode": {
    "name": "ipython",
    "version": 3
   },
   "file_extension": ".py",
   "mimetype": "text/x-python",
   "name": "python",
   "nbconvert_exporter": "python",
   "pygments_lexer": "ipython3",
   "version": "3.6.2"
  }
 },
 "nbformat": 4,
 "nbformat_minor": 2
}
